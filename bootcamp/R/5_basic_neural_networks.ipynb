{
 "cells": [
  {
   "cell_type": "code",
   "execution_count": null,
   "metadata": {
    "collapsed": true
   },
   "outputs": [],
   "source": [
    "Deep learning in R\n",
    "\n",
    "This book focuses on introductory material in R. This shouldn’t however give the impression that more modern approaches are not available. R has plenty of activity arounds deep learning such as, for example, the keras package, an interface to Keras, a high-level neural networks API.\n",
    "\n",
    "See this blog for an introduction.\n",
    "\n"
   ]
  },
  {
   "cell_type": "code",
   "execution_count": null,
   "metadata": {
    "collapsed": true
   },
   "outputs": [],
   "source": [
    "6.4 References and further reading\n",
    "\n",
    "caret: Classification and Regression Training. Max Kuhn. https://CRAN.R-project.org/package=caret.\n",
    "Applied predictive modeling, Max Kuhn and Kjell Johnson (book webpage http://appliedpredictivemodeling.com/) and the caret book.\n",
    "An Introduction to Statistical Learning (with Applications in R). Gareth James, Daniela Witten, Trevor Hastie and Robert Tibshirani.\n",
    "mlr: Machine Learning in R. Bischl B, Lang M, Kotthoff L, Schiffner J, Richter J, Studerus E, Casalicchio G and Jones Z (2016). Journal of Machine Learning Research, 17(170), pp. 1-5. https://github.com/mlr-org/mlr.\n",
    "DataCamp’s Machine Learning with R skill track (requires paid access)."
   ]
  }
 ],
 "metadata": {
  "kernelspec": {
   "display_name": "R",
   "language": "R",
   "name": "ir"
  },
  "language_info": {
   "codemirror_mode": "r",
   "file_extension": ".r",
   "mimetype": "text/x-r-source",
   "name": "R",
   "pygments_lexer": "r",
   "version": "3.4.0"
  }
 },
 "nbformat": 4,
 "nbformat_minor": 0
}
