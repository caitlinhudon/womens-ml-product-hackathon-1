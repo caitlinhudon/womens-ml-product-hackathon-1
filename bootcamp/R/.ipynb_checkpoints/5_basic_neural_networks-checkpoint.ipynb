{
 "cells": [
  {
   "cell_type": "code",
   "execution_count": 3,
   "metadata": {
    "collapsed": false
   },
   "outputs": [
    {
     "name": "stdout",
     "output_type": "stream",
     "text": [
      "Using r-tensorflow conda environment for TensorFlow installation\n",
      "Determining latest installable release of TensorFlow...done\n",
      "Installing TensorFlow...\n",
      "\n",
      "Installation complete.\n",
      "\n"
     ]
    }
   ],
   "source": [
    "library(keras)\n",
    "install_keras()"
   ]
  },
  {
   "cell_type": "code",
   "execution_count": 2,
   "metadata": {
    "collapsed": false,
    "scrolled": true
   },
   "outputs": [
    {
     "ename": "ERROR",
     "evalue": "Error: ImportError: cannot import name 'abs'\n\nDetailed traceback: \n  File \"/Users/caitlin/anaconda/envs/r-tensorflow/lib/python3.6/site-packages/keras/__init__.py\", line 3, in <module>\n    from . import utils\n  File \"/Users/caitlin/anaconda/envs/r-tensorflow/lib/python3.6/site-packages/keras/utils/__init__.py\", line 6, in <module>\n    from . import conv_utils\n  File \"/Users/caitlin/anaconda/envs/r-tensorflow/lib/python3.6/site-packages/keras/utils/conv_utils.py\", line 9, in <module>\n    from .. import backend as K\n  File \"/Users/caitlin/anaconda/envs/r-tensorflow/lib/python3.6/site-packages/keras/backend/__init__.py\", line 87, in <module>\n    from .tensorflow_backend import *\n  File \"/Users/caitlin/anaconda/envs/r-tensorflow/lib/python3.6/site-packages/keras/backend/tensorflow_backend.py\", line 5, in <module>\n    import tensorflow as tf\n  File \"/Users/caitlin/anaconda/envs/r-tensorflow/lib/python3.6/site-packages/tensorflow/__init__.py\", line 22, in <module>\n    from tensorflow.python import pywrap_tensorflow  # pylint: disable=unused-import\n  File \"/Users/caitlin/anaconda/envs/r-tensorflow/lib/python3.6/site-packages/tensorflow/python/__init__.py\", line 81, in <module>\n    from tensorflow.python import keras\n  File \"/Users/caitlin/anaconda/envs/r-tensorflow/lib/python3.6/site-packages/tensorflow/python/keras/__init__.py\", line 24, in <module>\n    from tensorflow.python.keras import activations\n  File \"/Users/caitlin/anaconda/envs/r-tensorflow/lib/python3.6/site-packages/tensorflow/python/keras/activations/__init__.py\", line 22, in <module>\n    from tensorflow.python.keras._impl.keras.activations import elu\n  File \"/Users/caitlin/anaconda/envs/r-tensorflow/lib/python3.6/site-packages/tensorflow/python/keras/_impl/keras/__init__.py\", line 21, in <module>\n    from tensorflow.python.keras._impl.keras import activations\n  File \"/Users/caitlin/anaconda/envs/r-tensorflow/lib/python3.6/site-packages/tensorflow/python/keras/_impl/keras/activations.py\", line 23, in <module>\n    from tensorflow.python.keras._impl.keras import backend as K\n  File \"/Users/caitlin/anaconda/envs/r-tensorflow/lib/python3.6/site-packages/tensorflow/python/keras/_impl/keras/backend.py\", line 37, in <module>\n    from tensorflow.python.layers import base as tf_base_layers\n  File \"/Users/caitlin/anaconda/envs/r-tensorflow/lib/python3.6/site-packages/tensorflow/python/layers/base.py\", line 25, in <module>\n    from tensorflow.python.keras.engine import base_layer\n  File \"/Users/caitlin/anaconda/envs/r-tensorflow/lib/python3.6/site-packages/tensorflow/python/keras/engine/__init__.py\", line 21, in <module>\n    from tensorflow.python.keras.engine.base_layer import InputSpec\n  File \"/Users/caitlin/anaconda/envs/r-tensorflow/lib/python3.6/site-packages/tensorflow/python/keras/engine/base_layer.py\", line 33, in <module>\n    from tensorflow.python.keras import backend\n  File \"/Users/caitlin/anaconda/envs/r-tensorflow/lib/python3.6/site-packages/tensorflow/python/keras/backend/__init__.py\", line 22, in <module>\n    from tensorflow.python.keras._impl.keras.backend import abs\n\n",
     "output_type": "error",
     "traceback": [
      "Error: ImportError: cannot import name 'abs'\n\nDetailed traceback: \n  File \"/Users/caitlin/anaconda/envs/r-tensorflow/lib/python3.6/site-packages/keras/__init__.py\", line 3, in <module>\n    from . import utils\n  File \"/Users/caitlin/anaconda/envs/r-tensorflow/lib/python3.6/site-packages/keras/utils/__init__.py\", line 6, in <module>\n    from . import conv_utils\n  File \"/Users/caitlin/anaconda/envs/r-tensorflow/lib/python3.6/site-packages/keras/utils/conv_utils.py\", line 9, in <module>\n    from .. import backend as K\n  File \"/Users/caitlin/anaconda/envs/r-tensorflow/lib/python3.6/site-packages/keras/backend/__init__.py\", line 87, in <module>\n    from .tensorflow_backend import *\n  File \"/Users/caitlin/anaconda/envs/r-tensorflow/lib/python3.6/site-packages/keras/backend/tensorflow_backend.py\", line 5, in <module>\n    import tensorflow as tf\n  File \"/Users/caitlin/anaconda/envs/r-tensorflow/lib/python3.6/site-packages/tensorflow/__init__.py\", line 22, in <module>\n    from tensorflow.python import pywrap_tensorflow  # pylint: disable=unused-import\n  File \"/Users/caitlin/anaconda/envs/r-tensorflow/lib/python3.6/site-packages/tensorflow/python/__init__.py\", line 81, in <module>\n    from tensorflow.python import keras\n  File \"/Users/caitlin/anaconda/envs/r-tensorflow/lib/python3.6/site-packages/tensorflow/python/keras/__init__.py\", line 24, in <module>\n    from tensorflow.python.keras import activations\n  File \"/Users/caitlin/anaconda/envs/r-tensorflow/lib/python3.6/site-packages/tensorflow/python/keras/activations/__init__.py\", line 22, in <module>\n    from tensorflow.python.keras._impl.keras.activations import elu\n  File \"/Users/caitlin/anaconda/envs/r-tensorflow/lib/python3.6/site-packages/tensorflow/python/keras/_impl/keras/__init__.py\", line 21, in <module>\n    from tensorflow.python.keras._impl.keras import activations\n  File \"/Users/caitlin/anaconda/envs/r-tensorflow/lib/python3.6/site-packages/tensorflow/python/keras/_impl/keras/activations.py\", line 23, in <module>\n    from tensorflow.python.keras._impl.keras import backend as K\n  File \"/Users/caitlin/anaconda/envs/r-tensorflow/lib/python3.6/site-packages/tensorflow/python/keras/_impl/keras/backend.py\", line 37, in <module>\n    from tensorflow.python.layers import base as tf_base_layers\n  File \"/Users/caitlin/anaconda/envs/r-tensorflow/lib/python3.6/site-packages/tensorflow/python/layers/base.py\", line 25, in <module>\n    from tensorflow.python.keras.engine import base_layer\n  File \"/Users/caitlin/anaconda/envs/r-tensorflow/lib/python3.6/site-packages/tensorflow/python/keras/engine/__init__.py\", line 21, in <module>\n    from tensorflow.python.keras.engine.base_layer import InputSpec\n  File \"/Users/caitlin/anaconda/envs/r-tensorflow/lib/python3.6/site-packages/tensorflow/python/keras/engine/base_layer.py\", line 33, in <module>\n    from tensorflow.python.keras import backend\n  File \"/Users/caitlin/anaconda/envs/r-tensorflow/lib/python3.6/site-packages/tensorflow/python/keras/backend/__init__.py\", line 22, in <module>\n    from tensorflow.python.keras._impl.keras.backend import abs\n\nTraceback:\n",
      "1. dataset_mnist()",
      "2. keras$datasets",
      "3. `$.python.builtin.module`(keras, \"datasets\")",
      "4. py_resolve_module_proxy(x)",
      "5. on_error(result)",
      "6. stop(e$message, call. = FALSE)"
     ]
    }
   ],
   "source": [
    "mnist <- dataset_mnist()"
   ]
  },
  {
   "cell_type": "code",
   "execution_count": null,
   "metadata": {
    "collapsed": true
   },
   "outputs": [],
   "source": [
    "\n",
    "\n",
    "\n",
    "x_train <- mnist$train$x\n",
    "y_train <- mnist$train$y\n",
    "x_test <- mnist$test$x\n",
    "y_test <- mnist$test$y\n",
    "\n",
    "# reshape\n",
    "x_train <- array_reshape(x_train, c(nrow(x_train), 784))\n",
    "x_test <- array_reshape(x_test, c(nrow(x_test), 784))\n",
    "# rescale\n",
    "x_train <- x_train / 255\n",
    "x_test <- x_test / 255\n",
    "\n",
    "y_train <- to_categorical(y_train, 10)\n",
    "y_test <- to_categorical(y_test, 10)\n",
    "\n",
    "model <- keras_model_sequential() \n",
    "model %>% \n",
    "  layer_dense(units = 256, activation = 'relu', input_shape = c(784)) %>% \n",
    "  layer_dropout(rate = 0.4) %>% \n",
    "  layer_dense(units = 128, activation = 'relu') %>%\n",
    "  layer_dropout(rate = 0.3) %>%\n",
    "  layer_dense(units = 10, activation = 'softmax')\n",
    "\n",
    "summary(model)\n",
    "\n",
    "model %>% compile(\n",
    "  loss = 'categorical_crossentropy',\n",
    "  optimizer = optimizer_rmsprop(),\n",
    "  metrics = c('accuracy')\n",
    ")\n",
    "\n",
    "history <- model %>% fit(\n",
    "  x_train, y_train, \n",
    "  epochs = 30, batch_size = 128, \n",
    "  validation_split = 0.2\n",
    ")\n",
    "\n",
    "plot(history)\n",
    "\n",
    "model %>% evaluate(x_test, y_test)\n",
    "\n",
    "model %>% predict_classes(x_test)\n",
    "\n"
   ]
  }
 ],
 "metadata": {
  "anaconda-cloud": {},
  "kernelspec": {
   "display_name": "R",
   "language": "R",
   "name": "ir"
  },
  "language_info": {
   "codemirror_mode": "r",
   "file_extension": ".r",
   "mimetype": "text/x-r-source",
   "name": "R",
   "pygments_lexer": "r",
   "version": "3.5.1"
  }
 },
 "nbformat": 4,
 "nbformat_minor": 0
}
